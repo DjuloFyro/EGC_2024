{
 "cells": [
  {
   "cell_type": "markdown",
   "id": "13a0f351",
   "metadata": {},
   "source": [
    "# Defi EGC 2024 - Julian Gil / Antoine Feret\n",
    "\n",
    "## Table of contents\n",
    "\n",
    "    1. Introduction\n",
    "    2. Load data\n",
    "    3. Data preprocessing\n",
    "    4. Analysis\n",
    "    5. Conclusion"
   ]
  },
  {
   "cell_type": "markdown",
   "id": "e4c7de7c",
   "metadata": {},
   "source": [
    "## 1. Introduction\n",
    "\n",
    "Miners select transactions to include in a block based on a combination of factors, including the transaction fees offered by the sender, the size of the transaction in bytes, and the available space in the block.\n",
    "\n",
    "When a user sends a Bitcoin transaction, they have the option to include a transaction fee. This fee is paid to the miner who includes the transaction in a block and adds it to the blockchain. Transactions with higher fees are prioritized by miners because they can earn more money by including them in a block.\n",
    "\n",
    "In addition to the transaction fee, miners also consider the size of the transaction in bytes. Larger transactions take up more space in a block, so miners may prioritize smaller transactions to maximize the number of transactions they can include in a block.\n",
    "\n",
    "In this notebook, we will try to answer to the following question: ***how a miner should select which transactions to include in a block ?***"
   ]
  },
  {
   "cell_type": "markdown",
   "id": "25f4b2c0",
   "metadata": {},
   "source": [
    "### 1.1 Imports\n",
    "\n",
    "import libraries and write settings here"
   ]
  },
  {
   "cell_type": "code",
   "execution_count": 136,
   "id": "50ef9945",
   "metadata": {},
   "outputs": [],
   "source": [
    "# Import of necessary libraries\n",
    "%matplotlib inline\n",
    "\n",
    "import numpy as np\n",
    "from dateutil.parser import ParserError\n",
    "\n",
    "import pandas as pd\n",
    "from datetime import datetime\n",
    "\n",
    "import json\n",
    "\n",
    "import matplotlib.pyplot as plt\n",
    "import plotly.express as px\n",
    "import seaborn as sns\n",
    "\n",
    "pd.options.plotting.backend = \"plotly\""
   ]
  },
  {
   "cell_type": "markdown",
   "id": "8c01766a",
   "metadata": {},
   "source": [
    "## 2. Load Data\n",
    "\n",
    "Load and show the data"
   ]
  },
  {
   "cell_type": "code",
   "execution_count": 137,
   "id": "215a2a39",
   "metadata": {},
   "outputs": [],
   "source": [
    "# Load the data\n",
    "actors_data = pd.read_csv('data/blockchain_by_actor.csv', index_col=0)\n",
    "global_data = pd.read_csv('data/global.csv', index_col=0)\n",
    "external_data = pd.read_csv('data/external.csv')"
   ]
  },
  {
   "cell_type": "code",
   "execution_count": 138,
   "id": "fbafac31",
   "metadata": {},
   "outputs": [
    {
     "data": {
      "text/html": [
       "<div>\n",
       "<style scoped>\n",
       "    .dataframe tbody tr th:only-of-type {\n",
       "        vertical-align: middle;\n",
       "    }\n",
       "\n",
       "    .dataframe tbody tr th {\n",
       "        vertical-align: top;\n",
       "    }\n",
       "\n",
       "    .dataframe thead th {\n",
       "        text-align: right;\n",
       "    }\n",
       "</style>\n",
       "<table border=\"1\" class=\"dataframe\">\n",
       "  <thead>\n",
       "    <tr style=\"text-align: right;\">\n",
       "      <th></th>\n",
       "      <th>year</th>\n",
       "      <th>month</th>\n",
       "      <th>day</th>\n",
       "      <th>identity</th>\n",
       "      <th>received</th>\n",
       "      <th>nb_received</th>\n",
       "      <th>date</th>\n",
       "      <th>sum_fee</th>\n",
       "      <th>mean_fee_for100</th>\n",
       "      <th>nb_transactions</th>\n",
       "      <th>sent</th>\n",
       "      <th>self_spent</th>\n",
       "      <th>self_spent_estimated</th>\n",
       "      <th>nb_spent</th>\n",
       "      <th>spent</th>\n",
       "    </tr>\n",
       "  </thead>\n",
       "  <tbody>\n",
       "    <tr>\n",
       "      <th>0</th>\n",
       "      <td>2015.0</td>\n",
       "      <td>1.0</td>\n",
       "      <td>1.0</td>\n",
       "      <td>HappyCoins.com</td>\n",
       "      <td>1.377590e+09</td>\n",
       "      <td>4.0</td>\n",
       "      <td>2015-01-01</td>\n",
       "      <td>49596.0</td>\n",
       "      <td>0.004957</td>\n",
       "      <td>4.0</td>\n",
       "      <td>1.277500e+09</td>\n",
       "      <td>0.0</td>\n",
       "      <td>0.0</td>\n",
       "      <td>8.0</td>\n",
       "      <td>1.277500e+09</td>\n",
       "    </tr>\n",
       "    <tr>\n",
       "      <th>1</th>\n",
       "      <td>2015.0</td>\n",
       "      <td>1.0</td>\n",
       "      <td>1.0</td>\n",
       "      <td>821</td>\n",
       "      <td>2.476057e+09</td>\n",
       "      <td>5.0</td>\n",
       "      <td>2015-01-01</td>\n",
       "      <td>10000.0</td>\n",
       "      <td>0.000851</td>\n",
       "      <td>1.0</td>\n",
       "      <td>1.174552e+09</td>\n",
       "      <td>0.0</td>\n",
       "      <td>0.0</td>\n",
       "      <td>2.0</td>\n",
       "      <td>1.174552e+09</td>\n",
       "    </tr>\n",
       "    <tr>\n",
       "      <th>2</th>\n",
       "      <td>2015.0</td>\n",
       "      <td>1.0</td>\n",
       "      <td>1.0</td>\n",
       "      <td>FortuneJack.com</td>\n",
       "      <td>1.201470e+08</td>\n",
       "      <td>29.0</td>\n",
       "      <td>2015-01-01</td>\n",
       "      <td>83000.0</td>\n",
       "      <td>0.194670</td>\n",
       "      <td>11.0</td>\n",
       "      <td>1.541127e+08</td>\n",
       "      <td>14158970.0</td>\n",
       "      <td>14158970.0</td>\n",
       "      <td>22.0</td>\n",
       "      <td>1.399538e+08</td>\n",
       "    </tr>\n",
       "    <tr>\n",
       "      <th>3</th>\n",
       "      <td>2015.0</td>\n",
       "      <td>1.0</td>\n",
       "      <td>1.0</td>\n",
       "      <td>396</td>\n",
       "      <td>1.906135e+10</td>\n",
       "      <td>70.0</td>\n",
       "      <td>2015-01-01</td>\n",
       "      <td>540000.0</td>\n",
       "      <td>0.023738</td>\n",
       "      <td>54.0</td>\n",
       "      <td>1.842989e+10</td>\n",
       "      <td>0.0</td>\n",
       "      <td>0.0</td>\n",
       "      <td>108.0</td>\n",
       "      <td>1.842989e+10</td>\n",
       "    </tr>\n",
       "    <tr>\n",
       "      <th>4</th>\n",
       "      <td>2015.0</td>\n",
       "      <td>1.0</td>\n",
       "      <td>1.0</td>\n",
       "      <td>SatoshiMines.com</td>\n",
       "      <td>7.401319e+08</td>\n",
       "      <td>193.0</td>\n",
       "      <td>2015-01-01</td>\n",
       "      <td>740000.0</td>\n",
       "      <td>0.447934</td>\n",
       "      <td>45.0</td>\n",
       "      <td>1.813624e+09</td>\n",
       "      <td>35044568.0</td>\n",
       "      <td>35044568.0</td>\n",
       "      <td>84.0</td>\n",
       "      <td>1.778579e+09</td>\n",
       "    </tr>\n",
       "  </tbody>\n",
       "</table>\n",
       "</div>"
      ],
      "text/plain": [
       "     year  month  day          identity      received  nb_received  \\\n",
       "0  2015.0    1.0  1.0    HappyCoins.com  1.377590e+09          4.0   \n",
       "1  2015.0    1.0  1.0               821  2.476057e+09          5.0   \n",
       "2  2015.0    1.0  1.0   FortuneJack.com  1.201470e+08         29.0   \n",
       "3  2015.0    1.0  1.0               396  1.906135e+10         70.0   \n",
       "4  2015.0    1.0  1.0  SatoshiMines.com  7.401319e+08        193.0   \n",
       "\n",
       "         date   sum_fee  mean_fee_for100  nb_transactions          sent  \\\n",
       "0  2015-01-01   49596.0         0.004957              4.0  1.277500e+09   \n",
       "1  2015-01-01   10000.0         0.000851              1.0  1.174552e+09   \n",
       "2  2015-01-01   83000.0         0.194670             11.0  1.541127e+08   \n",
       "3  2015-01-01  540000.0         0.023738             54.0  1.842989e+10   \n",
       "4  2015-01-01  740000.0         0.447934             45.0  1.813624e+09   \n",
       "\n",
       "   self_spent  self_spent_estimated  nb_spent         spent  \n",
       "0         0.0                   0.0       8.0  1.277500e+09  \n",
       "1         0.0                   0.0       2.0  1.174552e+09  \n",
       "2  14158970.0            14158970.0      22.0  1.399538e+08  \n",
       "3         0.0                   0.0     108.0  1.842989e+10  \n",
       "4  35044568.0            35044568.0      84.0  1.778579e+09  "
      ]
     },
     "execution_count": 138,
     "metadata": {},
     "output_type": "execute_result"
    }
   ],
   "source": [
    "# Take a look to the data\n",
    "actors_data.head()"
   ]
  },
  {
   "cell_type": "code",
   "execution_count": 139,
   "id": "d2e8ee43",
   "metadata": {},
   "outputs": [
    {
     "data": {
      "text/html": [
       "<div>\n",
       "<style scoped>\n",
       "    .dataframe tbody tr th:only-of-type {\n",
       "        vertical-align: middle;\n",
       "    }\n",
       "\n",
       "    .dataframe tbody tr th {\n",
       "        vertical-align: top;\n",
       "    }\n",
       "\n",
       "    .dataframe thead th {\n",
       "        text-align: right;\n",
       "    }\n",
       "</style>\n",
       "<table border=\"1\" class=\"dataframe\">\n",
       "  <thead>\n",
       "    <tr style=\"text-align: right;\">\n",
       "      <th></th>\n",
       "      <th>year</th>\n",
       "      <th>month</th>\n",
       "      <th>day</th>\n",
       "      <th>total_fee</th>\n",
       "      <th>total_received_satoshi</th>\n",
       "      <th>total_sent_satoshi</th>\n",
       "      <th>mean_fee_satoshi</th>\n",
       "      <th>mean_feeUSD</th>\n",
       "      <th>mean_fee_for100</th>\n",
       "      <th>nb_transactions</th>\n",
       "      <th>nb_payments</th>\n",
       "      <th>mean_nb_inputs</th>\n",
       "      <th>mean_nb_outputs</th>\n",
       "      <th>nb_mining</th>\n",
       "      <th>total_mining_satoshi</th>\n",
       "      <th>newly_created_coins</th>\n",
       "      <th>self_spent_satoshi</th>\n",
       "      <th>total_received</th>\n",
       "      <th>volume_without_self</th>\n",
       "    </tr>\n",
       "  </thead>\n",
       "  <tbody>\n",
       "    <tr>\n",
       "      <th>2015-01-01</th>\n",
       "      <td>2015</td>\n",
       "      <td>1</td>\n",
       "      <td>1</td>\n",
       "      <td>801373971</td>\n",
       "      <td>45473028339385</td>\n",
       "      <td>45058028339385</td>\n",
       "      <td>13609.829337</td>\n",
       "      <td>4.284054e+06</td>\n",
       "      <td>0.799999</td>\n",
       "      <td>58882</td>\n",
       "      <td>161194</td>\n",
       "      <td>2.595241</td>\n",
       "      <td>2.737577</td>\n",
       "      <td>166</td>\n",
       "      <td>415801373971</td>\n",
       "      <td>415000000000</td>\n",
       "      <td>2757774885900</td>\n",
       "      <td>45473028339385</td>\n",
       "      <td>42715253453485</td>\n",
       "    </tr>\n",
       "    <tr>\n",
       "      <th>2015-01-02</th>\n",
       "      <td>2015</td>\n",
       "      <td>1</td>\n",
       "      <td>2</td>\n",
       "      <td>1159934218</td>\n",
       "      <td>73370568521080</td>\n",
       "      <td>72955568521080</td>\n",
       "      <td>14978.682808</td>\n",
       "      <td>4.732406e+06</td>\n",
       "      <td>0.778933</td>\n",
       "      <td>77439</td>\n",
       "      <td>257633</td>\n",
       "      <td>2.715557</td>\n",
       "      <td>3.326915</td>\n",
       "      <td>166</td>\n",
       "      <td>416159934218</td>\n",
       "      <td>415000000000</td>\n",
       "      <td>4316724676318</td>\n",
       "      <td>73370568521080</td>\n",
       "      <td>69053843844762</td>\n",
       "    </tr>\n",
       "    <tr>\n",
       "      <th>2015-01-03</th>\n",
       "      <td>2015</td>\n",
       "      <td>1</td>\n",
       "      <td>3</td>\n",
       "      <td>1196476043</td>\n",
       "      <td>82635189454578</td>\n",
       "      <td>82220189454578</td>\n",
       "      <td>14304.385766</td>\n",
       "      <td>4.086009e+06</td>\n",
       "      <td>0.797419</td>\n",
       "      <td>83644</td>\n",
       "      <td>295618</td>\n",
       "      <td>2.781885</td>\n",
       "      <td>3.534240</td>\n",
       "      <td>166</td>\n",
       "      <td>416196476043</td>\n",
       "      <td>415000000000</td>\n",
       "      <td>5584584356557</td>\n",
       "      <td>82635189454578</td>\n",
       "      <td>77050605098021</td>\n",
       "    </tr>\n",
       "    <tr>\n",
       "      <th>2015-01-04</th>\n",
       "      <td>2015</td>\n",
       "      <td>1</td>\n",
       "      <td>4</td>\n",
       "      <td>2159195328</td>\n",
       "      <td>115159442449532</td>\n",
       "      <td>114726942449532</td>\n",
       "      <td>25138.199015</td>\n",
       "      <td>6.619757e+06</td>\n",
       "      <td>0.899054</td>\n",
       "      <td>85893</td>\n",
       "      <td>280288</td>\n",
       "      <td>2.770133</td>\n",
       "      <td>3.263223</td>\n",
       "      <td>173</td>\n",
       "      <td>434659195328</td>\n",
       "      <td>432500000000</td>\n",
       "      <td>6554587956125</td>\n",
       "      <td>115159442449532</td>\n",
       "      <td>108604854493407</td>\n",
       "    </tr>\n",
       "    <tr>\n",
       "      <th>2015-01-05</th>\n",
       "      <td>2015</td>\n",
       "      <td>1</td>\n",
       "      <td>5</td>\n",
       "      <td>1608443040</td>\n",
       "      <td>112439228285641</td>\n",
       "      <td>112051728285641</td>\n",
       "      <td>16955.609622</td>\n",
       "      <td>4.662858e+06</td>\n",
       "      <td>0.898594</td>\n",
       "      <td>94862</td>\n",
       "      <td>286552</td>\n",
       "      <td>2.954471</td>\n",
       "      <td>3.020725</td>\n",
       "      <td>155</td>\n",
       "      <td>389108443040</td>\n",
       "      <td>387500000000</td>\n",
       "      <td>5063695492444</td>\n",
       "      <td>112439228285641</td>\n",
       "      <td>107375532793197</td>\n",
       "    </tr>\n",
       "  </tbody>\n",
       "</table>\n",
       "</div>"
      ],
      "text/plain": [
       "            year  month  day   total_fee  total_received_satoshi  \\\n",
       "2015-01-01  2015      1    1   801373971          45473028339385   \n",
       "2015-01-02  2015      1    2  1159934218          73370568521080   \n",
       "2015-01-03  2015      1    3  1196476043          82635189454578   \n",
       "2015-01-04  2015      1    4  2159195328         115159442449532   \n",
       "2015-01-05  2015      1    5  1608443040         112439228285641   \n",
       "\n",
       "            total_sent_satoshi  mean_fee_satoshi   mean_feeUSD  \\\n",
       "2015-01-01      45058028339385      13609.829337  4.284054e+06   \n",
       "2015-01-02      72955568521080      14978.682808  4.732406e+06   \n",
       "2015-01-03      82220189454578      14304.385766  4.086009e+06   \n",
       "2015-01-04     114726942449532      25138.199015  6.619757e+06   \n",
       "2015-01-05     112051728285641      16955.609622  4.662858e+06   \n",
       "\n",
       "            mean_fee_for100  nb_transactions  nb_payments  mean_nb_inputs  \\\n",
       "2015-01-01         0.799999            58882       161194        2.595241   \n",
       "2015-01-02         0.778933            77439       257633        2.715557   \n",
       "2015-01-03         0.797419            83644       295618        2.781885   \n",
       "2015-01-04         0.899054            85893       280288        2.770133   \n",
       "2015-01-05         0.898594            94862       286552        2.954471   \n",
       "\n",
       "            mean_nb_outputs  nb_mining  total_mining_satoshi  \\\n",
       "2015-01-01         2.737577        166          415801373971   \n",
       "2015-01-02         3.326915        166          416159934218   \n",
       "2015-01-03         3.534240        166          416196476043   \n",
       "2015-01-04         3.263223        173          434659195328   \n",
       "2015-01-05         3.020725        155          389108443040   \n",
       "\n",
       "            newly_created_coins  self_spent_satoshi   total_received  \\\n",
       "2015-01-01         415000000000       2757774885900   45473028339385   \n",
       "2015-01-02         415000000000       4316724676318   73370568521080   \n",
       "2015-01-03         415000000000       5584584356557   82635189454578   \n",
       "2015-01-04         432500000000       6554587956125  115159442449532   \n",
       "2015-01-05         387500000000       5063695492444  112439228285641   \n",
       "\n",
       "            volume_without_self  \n",
       "2015-01-01       42715253453485  \n",
       "2015-01-02       69053843844762  \n",
       "2015-01-03       77050605098021  \n",
       "2015-01-04      108604854493407  \n",
       "2015-01-05      107375532793197  "
      ]
     },
     "execution_count": 139,
     "metadata": {},
     "output_type": "execute_result"
    }
   ],
   "source": [
    "global_data.head()"
   ]
  },
  {
   "cell_type": "code",
   "execution_count": 140,
   "id": "2bd76755",
   "metadata": {},
   "outputs": [
    {
     "data": {
      "text/html": [
       "<div>\n",
       "<style scoped>\n",
       "    .dataframe tbody tr th:only-of-type {\n",
       "        vertical-align: middle;\n",
       "    }\n",
       "\n",
       "    .dataframe tbody tr th {\n",
       "        vertical-align: top;\n",
       "    }\n",
       "\n",
       "    .dataframe thead th {\n",
       "        text-align: right;\n",
       "    }\n",
       "</style>\n",
       "<table border=\"1\" class=\"dataframe\">\n",
       "  <thead>\n",
       "    <tr style=\"text-align: right;\">\n",
       "      <th></th>\n",
       "      <th>Unnamed: 0</th>\n",
       "      <th>date</th>\n",
       "      <th>PriceUSD</th>\n",
       "      <th>HashRate</th>\n",
       "    </tr>\n",
       "  </thead>\n",
       "  <tbody>\n",
       "    <tr>\n",
       "      <th>0</th>\n",
       "      <td>2190</td>\n",
       "      <td>2015-01-02</td>\n",
       "      <td>315.942732</td>\n",
       "      <td>333345.017260</td>\n",
       "    </tr>\n",
       "    <tr>\n",
       "      <th>1</th>\n",
       "      <td>2191</td>\n",
       "      <td>2015-01-03</td>\n",
       "      <td>285.647310</td>\n",
       "      <td>327284.198765</td>\n",
       "    </tr>\n",
       "    <tr>\n",
       "      <th>2</th>\n",
       "      <td>2192</td>\n",
       "      <td>2015-01-04</td>\n",
       "      <td>263.334575</td>\n",
       "      <td>347486.927083</td>\n",
       "    </tr>\n",
       "    <tr>\n",
       "      <th>3</th>\n",
       "      <td>2193</td>\n",
       "      <td>2015-01-05</td>\n",
       "      <td>275.003852</td>\n",
       "      <td>315162.561773</td>\n",
       "    </tr>\n",
       "    <tr>\n",
       "      <th>4</th>\n",
       "      <td>2194</td>\n",
       "      <td>2015-01-06</td>\n",
       "      <td>287.549521</td>\n",
       "      <td>319203.107437</td>\n",
       "    </tr>\n",
       "  </tbody>\n",
       "</table>\n",
       "</div>"
      ],
      "text/plain": [
       "   Unnamed: 0        date    PriceUSD       HashRate\n",
       "0        2190  2015-01-02  315.942732  333345.017260\n",
       "1        2191  2015-01-03  285.647310  327284.198765\n",
       "2        2192  2015-01-04  263.334575  347486.927083\n",
       "3        2193  2015-01-05  275.003852  315162.561773\n",
       "4        2194  2015-01-06  287.549521  319203.107437"
      ]
     },
     "execution_count": 140,
     "metadata": {},
     "output_type": "execute_result"
    }
   ],
   "source": [
    "external_data.head()"
   ]
  },
  {
   "cell_type": "markdown",
   "id": "d49e7834",
   "metadata": {},
   "source": [
    "Also, we are going to import 3 datasets from 'Blockchain.com' chart section:\n",
    "    - The average block size over the time\n",
    "    - The average confirmation time of the transactions over the time\n",
    "    - The *mempool* size over the time\n",
    "\n",
    "The data for some of these graphs has only been recorded since June 2016. Therefore we will be working on data from 06/15/2016 until 06/30/2017\n",
    "\n",
    "Definition mempool: The mempool is where all the valid transactions wait to be confirmed by the Bitcoin network. "
   ]
  },
  {
   "cell_type": "code",
   "execution_count": 141,
   "id": "234fd587",
   "metadata": {},
   "outputs": [],
   "source": [
    "# Return the data from 2016-06-15 to 2017-6-30 of a Dataframe\n",
    "def from2016_to2017(df):\n",
    "    date_begin = datetime(2016, 6, 15)\n",
    "    date_end = datetime(2017, 6, 30)\n",
    "    #df['date'] = df['date'].apply(lambda p: datetime.strptime(p, '%Y-%m-%d'))\n",
    "    df = df.loc[(df.date >= date_begin) & (df.date <= date_end)]\n",
    "    return df\n",
    "\n",
    "# Method to load a file in json format and convert it into DataFrame\n",
    "def load_json_data(path): \n",
    "    # Convert json to DataFrame\n",
    "    with open(path) as json_data:\n",
    "        data = json.load(json_data)\n",
    "        col_name = path[5:-5]\n",
    "        df = pd.DataFrame(data[col_name])\n",
    "    \n",
    "    # Rename columns\n",
    "    df.rename(columns={'x':'date', 'y':col_name}, inplace=True)\n",
    "\n",
    "    # Change the timestamp date to the right format.\n",
    "    df['date'] = df['date'].astype(str)\n",
    "    df['date'] = df['date'].apply(lambda p: p[:-3])\n",
    "    df['date'] = df['date'].astype(int)\n",
    "    \n",
    "    # Convert timestamp to DateTime\n",
    "    df['date'] = df['date'].apply(lambda p: datetime.fromtimestamp(p))\n",
    "    \n",
    "    # Get the data from June 2016 to June 2017\n",
    "    df = from2016_to2017(df)\n",
    "\n",
    "    # Take only the date from the DateTime\n",
    "    df['date'] = df['date'].apply(lambda p: p.date())\n",
    "    \n",
    "    # Convert Date to DateTime\n",
    "    df['date'] = df['date'].apply(lambda p: datetime.combine(p, datetime.min.time()))\n",
    "\n",
    "    return df\n",
    "\n",
    "# Load the mempool size dataset\n",
    "mempool_size_data = load_json_data('data/mempool-size.json')\n",
    "\n",
    "# Load the average block size dataset\n",
    "avg_block_size_data = load_json_data('data/avg-block-size.json')\n",
    "\n",
    "# Load the average confirmation time dataset\n",
    "avg_confirmation_time = load_json_data('data/avg-confirmation-time.json')\n",
    "\n",
    "# Load the average confirmation time dataset\n",
    "n_transactions_per_block = load_json_data('data/n-transactions-per-block.json')\n"
   ]
  },
  {
   "cell_type": "markdown",
   "id": "70bba11a",
   "metadata": {},
   "source": [
    "## 3. Data preprocessing"
   ]
  },
  {
   "cell_type": "code",
   "execution_count": 142,
   "id": "9ab50b39",
   "metadata": {},
   "outputs": [],
   "source": [
    "# Put the date index as a column\n",
    "global_data.reset_index(names='date', inplace=True)\n",
    "\n",
    "# Convert str to datetime\n",
    "global_data['date'] = global_data['date'].apply(lambda p: datetime.strptime(p, '%Y-%m-%d'))\n",
    "\n",
    "# Take only the data from 2016 to 2017 June.\n",
    "global_data = from2016_to2017(global_data)"
   ]
  },
  {
   "cell_type": "code",
   "execution_count": 143,
   "id": "89580f83",
   "metadata": {},
   "outputs": [
    {
     "data": {
      "text/plain": [
       "date                        datetime64[ns]\n",
       "year                                 int64\n",
       "month                                int64\n",
       "day                                  int64\n",
       "total_fee                            int64\n",
       "total_received_satoshi               int64\n",
       "total_sent_satoshi                   int64\n",
       "mean_fee_satoshi                   float64\n",
       "mean_feeUSD                        float64\n",
       "mean_fee_for100                    float64\n",
       "nb_transactions                      int64\n",
       "nb_payments                          int64\n",
       "mean_nb_inputs                     float64\n",
       "mean_nb_outputs                    float64\n",
       "nb_mining                            int64\n",
       "total_mining_satoshi                 int64\n",
       "newly_created_coins                  int64\n",
       "self_spent_satoshi                   int64\n",
       "total_received                       int64\n",
       "volume_without_self                  int64\n",
       "mempool-size                       float64\n",
       "avg-block-size                     float64\n",
       "avg-confirmation-time              float64\n",
       "n-transactions-per-block           float64\n",
       "dtype: object"
      ]
     },
     "execution_count": 143,
     "metadata": {},
     "output_type": "execute_result"
    }
   ],
   "source": [
    "# Concatenate the datasets from blockchain.com and the EGC dataset\n",
    "blockchain_data = global_data.merge(mempool_size_data, how='inner'\n",
    "                                    , on=['date']).merge(avg_block_size_data, how='inner',\n",
    "                                                         on=['date']).merge(avg_confirmation_time, how='inner', on=['date']).merge(n_transactions_per_block, how='inner', on=['date'])\n",
    "# Check the types\n",
    "blockchain_data.dtypes"
   ]
  },
  {
   "cell_type": "code",
   "execution_count": 144,
   "id": "38a674e0",
   "metadata": {},
   "outputs": [
    {
     "data": {
      "text/html": [
       "<div>\n",
       "<style scoped>\n",
       "    .dataframe tbody tr th:only-of-type {\n",
       "        vertical-align: middle;\n",
       "    }\n",
       "\n",
       "    .dataframe tbody tr th {\n",
       "        vertical-align: top;\n",
       "    }\n",
       "\n",
       "    .dataframe thead th {\n",
       "        text-align: right;\n",
       "    }\n",
       "</style>\n",
       "<table border=\"1\" class=\"dataframe\">\n",
       "  <thead>\n",
       "    <tr style=\"text-align: right;\">\n",
       "      <th></th>\n",
       "      <th>date</th>\n",
       "      <th>year</th>\n",
       "      <th>month</th>\n",
       "      <th>day</th>\n",
       "      <th>total_fee</th>\n",
       "      <th>total_received_satoshi</th>\n",
       "      <th>total_sent_satoshi</th>\n",
       "      <th>mean_fee_satoshi</th>\n",
       "      <th>mean_feeUSD</th>\n",
       "      <th>mean_fee_for100</th>\n",
       "      <th>...</th>\n",
       "      <th>nb_mining</th>\n",
       "      <th>total_mining_satoshi</th>\n",
       "      <th>newly_created_coins</th>\n",
       "      <th>self_spent_satoshi</th>\n",
       "      <th>total_received</th>\n",
       "      <th>volume_without_self</th>\n",
       "      <th>mempool-size</th>\n",
       "      <th>avg-block-size</th>\n",
       "      <th>avg-confirmation-time</th>\n",
       "      <th>n-transactions-per-block</th>\n",
       "    </tr>\n",
       "  </thead>\n",
       "  <tbody>\n",
       "    <tr>\n",
       "      <th>0</th>\n",
       "      <td>2016-06-15</td>\n",
       "      <td>2016</td>\n",
       "      <td>6</td>\n",
       "      <td>15</td>\n",
       "      <td>8046459191</td>\n",
       "      <td>226623268595599</td>\n",
       "      <td>226273268595599</td>\n",
       "      <td>32496.765819</td>\n",
       "      <td>2.258530e+07</td>\n",
       "      <td>1.085912</td>\n",
       "      <td>...</td>\n",
       "      <td>140</td>\n",
       "      <td>358046459191</td>\n",
       "      <td>350000000000</td>\n",
       "      <td>8195742382265</td>\n",
       "      <td>226623268595599</td>\n",
       "      <td>218427526213334</td>\n",
       "      <td>2.346226e+07</td>\n",
       "      <td>0.917150</td>\n",
       "      <td>67.982068</td>\n",
       "      <td>1705.276316</td>\n",
       "    </tr>\n",
       "    <tr>\n",
       "      <th>1</th>\n",
       "      <td>2016-06-18</td>\n",
       "      <td>2016</td>\n",
       "      <td>6</td>\n",
       "      <td>18</td>\n",
       "      <td>6973505804</td>\n",
       "      <td>228474542475358</td>\n",
       "      <td>228094542475358</td>\n",
       "      <td>30015.649377</td>\n",
       "      <td>2.276053e+07</td>\n",
       "      <td>1.243319</td>\n",
       "      <td>...</td>\n",
       "      <td>152</td>\n",
       "      <td>386973505804</td>\n",
       "      <td>380000000000</td>\n",
       "      <td>4629590873986</td>\n",
       "      <td>228474542475358</td>\n",
       "      <td>223844951601372</td>\n",
       "      <td>2.075233e+07</td>\n",
       "      <td>0.867728</td>\n",
       "      <td>42.948742</td>\n",
       "      <td>1489.348101</td>\n",
       "    </tr>\n",
       "    <tr>\n",
       "      <th>2</th>\n",
       "      <td>2016-06-27</td>\n",
       "      <td>2016</td>\n",
       "      <td>6</td>\n",
       "      <td>27</td>\n",
       "      <td>5954426908</td>\n",
       "      <td>213403256973000</td>\n",
       "      <td>213048256973000</td>\n",
       "      <td>28257.396785</td>\n",
       "      <td>1.843074e+07</td>\n",
       "      <td>1.370733</td>\n",
       "      <td>...</td>\n",
       "      <td>142</td>\n",
       "      <td>360954426908</td>\n",
       "      <td>355000000000</td>\n",
       "      <td>6238204241455</td>\n",
       "      <td>213403256973000</td>\n",
       "      <td>207165052731545</td>\n",
       "      <td>1.521212e+06</td>\n",
       "      <td>0.777207</td>\n",
       "      <td>15.269865</td>\n",
       "      <td>1476.387755</td>\n",
       "    </tr>\n",
       "    <tr>\n",
       "      <th>3</th>\n",
       "      <td>2016-06-30</td>\n",
       "      <td>2016</td>\n",
       "      <td>6</td>\n",
       "      <td>30</td>\n",
       "      <td>6139497628</td>\n",
       "      <td>203913567412716</td>\n",
       "      <td>203541067412716</td>\n",
       "      <td>26703.104285</td>\n",
       "      <td>1.800550e+07</td>\n",
       "      <td>1.164666</td>\n",
       "      <td>...</td>\n",
       "      <td>149</td>\n",
       "      <td>378639497628</td>\n",
       "      <td>372500000000</td>\n",
       "      <td>7228636670000</td>\n",
       "      <td>203913567412716</td>\n",
       "      <td>196684930742716</td>\n",
       "      <td>3.164595e+06</td>\n",
       "      <td>0.797510</td>\n",
       "      <td>21.966970</td>\n",
       "      <td>1546.400000</td>\n",
       "    </tr>\n",
       "    <tr>\n",
       "      <th>4</th>\n",
       "      <td>2016-07-03</td>\n",
       "      <td>2016</td>\n",
       "      <td>7</td>\n",
       "      <td>3</td>\n",
       "      <td>4555170477</td>\n",
       "      <td>176004303209408</td>\n",
       "      <td>175629303209408</td>\n",
       "      <td>25675.082726</td>\n",
       "      <td>1.701103e+07</td>\n",
       "      <td>1.494692</td>\n",
       "      <td>...</td>\n",
       "      <td>150</td>\n",
       "      <td>379555170477</td>\n",
       "      <td>375000000000</td>\n",
       "      <td>22314806477579</td>\n",
       "      <td>176004303209408</td>\n",
       "      <td>153689496731829</td>\n",
       "      <td>2.648298e+06</td>\n",
       "      <td>0.614649</td>\n",
       "      <td>15.719164</td>\n",
       "      <td>1150.175325</td>\n",
       "    </tr>\n",
       "    <tr>\n",
       "      <th>...</th>\n",
       "      <td>...</td>\n",
       "      <td>...</td>\n",
       "      <td>...</td>\n",
       "      <td>...</td>\n",
       "      <td>...</td>\n",
       "      <td>...</td>\n",
       "      <td>...</td>\n",
       "      <td>...</td>\n",
       "      <td>...</td>\n",
       "      <td>...</td>\n",
       "      <td>...</td>\n",
       "      <td>...</td>\n",
       "      <td>...</td>\n",
       "      <td>...</td>\n",
       "      <td>...</td>\n",
       "      <td>...</td>\n",
       "      <td>...</td>\n",
       "      <td>...</td>\n",
       "      <td>...</td>\n",
       "      <td>...</td>\n",
       "      <td>...</td>\n",
       "    </tr>\n",
       "    <tr>\n",
       "      <th>70</th>\n",
       "      <td>2017-06-07</td>\n",
       "      <td>2017</td>\n",
       "      <td>6</td>\n",
       "      <td>7</td>\n",
       "      <td>65906347674</td>\n",
       "      <td>253466681030666</td>\n",
       "      <td>253265431030666</td>\n",
       "      <td>197255.886201</td>\n",
       "      <td>5.339243e+08</td>\n",
       "      <td>3.515740</td>\n",
       "      <td>...</td>\n",
       "      <td>161</td>\n",
       "      <td>267156347674</td>\n",
       "      <td>201250000000</td>\n",
       "      <td>8921088394377</td>\n",
       "      <td>253466681030666</td>\n",
       "      <td>244545592636289</td>\n",
       "      <td>7.179373e+07</td>\n",
       "      <td>0.992123</td>\n",
       "      <td>98.002750</td>\n",
       "      <td>2058.909091</td>\n",
       "    </tr>\n",
       "    <tr>\n",
       "      <th>71</th>\n",
       "      <td>2017-06-16</td>\n",
       "      <td>2017</td>\n",
       "      <td>6</td>\n",
       "      <td>16</td>\n",
       "      <td>37911415737</td>\n",
       "      <td>352326930464184</td>\n",
       "      <td>352136930464184</td>\n",
       "      <td>137127.681095</td>\n",
       "      <td>3.395774e+08</td>\n",
       "      <td>3.175732</td>\n",
       "      <td>...</td>\n",
       "      <td>152</td>\n",
       "      <td>227911415737</td>\n",
       "      <td>190000000000</td>\n",
       "      <td>11335802516740</td>\n",
       "      <td>352326930464184</td>\n",
       "      <td>340991127947444</td>\n",
       "      <td>5.712907e+07</td>\n",
       "      <td>0.983088</td>\n",
       "      <td>396.995360</td>\n",
       "      <td>1823.898649</td>\n",
       "    </tr>\n",
       "    <tr>\n",
       "      <th>72</th>\n",
       "      <td>2017-06-19</td>\n",
       "      <td>2017</td>\n",
       "      <td>6</td>\n",
       "      <td>19</td>\n",
       "      <td>36996704803</td>\n",
       "      <td>297827133419312</td>\n",
       "      <td>297634633419312</td>\n",
       "      <td>142186.737804</td>\n",
       "      <td>3.682128e+08</td>\n",
       "      <td>3.137884</td>\n",
       "      <td>...</td>\n",
       "      <td>154</td>\n",
       "      <td>229496704803</td>\n",
       "      <td>192500000000</td>\n",
       "      <td>11651822312460</td>\n",
       "      <td>297827133419312</td>\n",
       "      <td>286175311106852</td>\n",
       "      <td>2.358836e+07</td>\n",
       "      <td>0.986316</td>\n",
       "      <td>973.237521</td>\n",
       "      <td>1786.582781</td>\n",
       "    </tr>\n",
       "    <tr>\n",
       "      <th>73</th>\n",
       "      <td>2017-06-22</td>\n",
       "      <td>2017</td>\n",
       "      <td>6</td>\n",
       "      <td>22</td>\n",
       "      <td>46416640342</td>\n",
       "      <td>347747446654960</td>\n",
       "      <td>347569946654960</td>\n",
       "      <td>168306.731821</td>\n",
       "      <td>4.521809e+08</td>\n",
       "      <td>3.426576</td>\n",
       "      <td>...</td>\n",
       "      <td>142</td>\n",
       "      <td>223916640342</td>\n",
       "      <td>177500000000</td>\n",
       "      <td>19360856199415</td>\n",
       "      <td>347747446654960</td>\n",
       "      <td>328386590455545</td>\n",
       "      <td>2.879930e+07</td>\n",
       "      <td>0.992578</td>\n",
       "      <td>74.979024</td>\n",
       "      <td>1940.179856</td>\n",
       "    </tr>\n",
       "    <tr>\n",
       "      <th>74</th>\n",
       "      <td>2017-06-25</td>\n",
       "      <td>2017</td>\n",
       "      <td>6</td>\n",
       "      <td>25</td>\n",
       "      <td>25777375442</td>\n",
       "      <td>174805378701333</td>\n",
       "      <td>174640378701333</td>\n",
       "      <td>137450.013021</td>\n",
       "      <td>3.433129e+08</td>\n",
       "      <td>3.153693</td>\n",
       "      <td>...</td>\n",
       "      <td>132</td>\n",
       "      <td>190777375442</td>\n",
       "      <td>165000000000</td>\n",
       "      <td>7483912554521</td>\n",
       "      <td>174805378701333</td>\n",
       "      <td>167321466146812</td>\n",
       "      <td>1.327883e+07</td>\n",
       "      <td>0.927725</td>\n",
       "      <td>72.376660</td>\n",
       "      <td>1481.303279</td>\n",
       "    </tr>\n",
       "  </tbody>\n",
       "</table>\n",
       "<p>75 rows × 24 columns</p>\n",
       "</div>"
      ],
      "text/plain": [
       "         date  year  month  day    total_fee  total_received_satoshi  \\\n",
       "0  2016-06-15  2016      6   15   8046459191         226623268595599   \n",
       "1  2016-06-18  2016      6   18   6973505804         228474542475358   \n",
       "2  2016-06-27  2016      6   27   5954426908         213403256973000   \n",
       "3  2016-06-30  2016      6   30   6139497628         203913567412716   \n",
       "4  2016-07-03  2016      7    3   4555170477         176004303209408   \n",
       "..        ...   ...    ...  ...          ...                     ...   \n",
       "70 2017-06-07  2017      6    7  65906347674         253466681030666   \n",
       "71 2017-06-16  2017      6   16  37911415737         352326930464184   \n",
       "72 2017-06-19  2017      6   19  36996704803         297827133419312   \n",
       "73 2017-06-22  2017      6   22  46416640342         347747446654960   \n",
       "74 2017-06-25  2017      6   25  25777375442         174805378701333   \n",
       "\n",
       "    total_sent_satoshi  mean_fee_satoshi   mean_feeUSD  mean_fee_for100  ...  \\\n",
       "0      226273268595599      32496.765819  2.258530e+07         1.085912  ...   \n",
       "1      228094542475358      30015.649377  2.276053e+07         1.243319  ...   \n",
       "2      213048256973000      28257.396785  1.843074e+07         1.370733  ...   \n",
       "3      203541067412716      26703.104285  1.800550e+07         1.164666  ...   \n",
       "4      175629303209408      25675.082726  1.701103e+07         1.494692  ...   \n",
       "..                 ...               ...           ...              ...  ...   \n",
       "70     253265431030666     197255.886201  5.339243e+08         3.515740  ...   \n",
       "71     352136930464184     137127.681095  3.395774e+08         3.175732  ...   \n",
       "72     297634633419312     142186.737804  3.682128e+08         3.137884  ...   \n",
       "73     347569946654960     168306.731821  4.521809e+08         3.426576  ...   \n",
       "74     174640378701333     137450.013021  3.433129e+08         3.153693  ...   \n",
       "\n",
       "    nb_mining  total_mining_satoshi  newly_created_coins  self_spent_satoshi  \\\n",
       "0         140          358046459191         350000000000       8195742382265   \n",
       "1         152          386973505804         380000000000       4629590873986   \n",
       "2         142          360954426908         355000000000       6238204241455   \n",
       "3         149          378639497628         372500000000       7228636670000   \n",
       "4         150          379555170477         375000000000      22314806477579   \n",
       "..        ...                   ...                  ...                 ...   \n",
       "70        161          267156347674         201250000000       8921088394377   \n",
       "71        152          227911415737         190000000000      11335802516740   \n",
       "72        154          229496704803         192500000000      11651822312460   \n",
       "73        142          223916640342         177500000000      19360856199415   \n",
       "74        132          190777375442         165000000000       7483912554521   \n",
       "\n",
       "     total_received  volume_without_self  mempool-size  avg-block-size  \\\n",
       "0   226623268595599      218427526213334  2.346226e+07        0.917150   \n",
       "1   228474542475358      223844951601372  2.075233e+07        0.867728   \n",
       "2   213403256973000      207165052731545  1.521212e+06        0.777207   \n",
       "3   203913567412716      196684930742716  3.164595e+06        0.797510   \n",
       "4   176004303209408      153689496731829  2.648298e+06        0.614649   \n",
       "..              ...                  ...           ...             ...   \n",
       "70  253466681030666      244545592636289  7.179373e+07        0.992123   \n",
       "71  352326930464184      340991127947444  5.712907e+07        0.983088   \n",
       "72  297827133419312      286175311106852  2.358836e+07        0.986316   \n",
       "73  347747446654960      328386590455545  2.879930e+07        0.992578   \n",
       "74  174805378701333      167321466146812  1.327883e+07        0.927725   \n",
       "\n",
       "    avg-confirmation-time  n-transactions-per-block  \n",
       "0               67.982068               1705.276316  \n",
       "1               42.948742               1489.348101  \n",
       "2               15.269865               1476.387755  \n",
       "3               21.966970               1546.400000  \n",
       "4               15.719164               1150.175325  \n",
       "..                    ...                       ...  \n",
       "70              98.002750               2058.909091  \n",
       "71             396.995360               1823.898649  \n",
       "72             973.237521               1786.582781  \n",
       "73              74.979024               1940.179856  \n",
       "74              72.376660               1481.303279  \n",
       "\n",
       "[75 rows x 24 columns]"
      ]
     },
     "execution_count": 144,
     "metadata": {},
     "output_type": "execute_result"
    }
   ],
   "source": [
    "# Take a look at the newly created dataset\n",
    "blockchain_data"
   ]
  },
  {
   "cell_type": "markdown",
   "id": "794148b5",
   "metadata": {},
   "source": [
    "## 4. Analysis"
   ]
  },
  {
   "cell_type": "markdown",
   "id": "ec2a517b",
   "metadata": {},
   "source": [
    "### 4.1. More low or higher fees ?\n",
    "\n",
    "We can start by loading the Blockchain dataset and plotting the distribution of transaction fees:"
   ]
  },
  {
   "cell_type": "code",
   "execution_count": 145,
   "id": "a66a9e23",
   "metadata": {},
   "outputs": [
    {
     "data": {
      "text/plain": [
       "<Axes: xlabel='mean_fee_satoshi', ylabel='Count'>"
      ]
     },
     "execution_count": 145,
     "metadata": {},
     "output_type": "execute_result"
    },
    {
     "data": {
      "image/png": "[encoded data removed]",
      "text/plain": [
       "<Figure size 640x480 with 1 Axes>"
      ]
     },
     "metadata": {},
     "output_type": "display_data"
    }
   ],
   "source": [
    "sns.histplot(data=blockchain_data, x='mean_fee_satoshi')"
   ]
  },
  {
   "cell_type": "markdown",
   "id": "45103615",
   "metadata": {},
   "source": [
    "From the chart, we can see that the majority of transactions have low fees, with a few transactions offering significantly higher fees. This suggests that miners have a choice between including more low-fee transactions or fewer high-fee transactions in a block."
   ]
  },
  {
   "cell_type": "markdown",
   "id": "66a6ba2c",
   "metadata": {},
   "source": [
    "### 4.2. Fees and congestion?\n",
    "\n",
    "Next, we can explore the relationship between the transaction fees and the likelihood of a transaction being included in a block. Miners prioritize transactions with higher fees, so we can expect to see a correlation between the transaction fee and the time it takes for a transaction to be confirmed."
   ]
  },
  {
   "cell_type": "code",
   "execution_count": 146,
   "id": "3bbc4c0a",
   "metadata": {},
   "outputs": [
    {
     "data": {
      "text/plain": [
       "<Axes: xlabel='avg-block-size', ylabel='avg-confirmation-time'>"
      ]
     },
     "execution_count": 146,
     "metadata": {},
     "output_type": "execute_result"
    },
    {
     "data": {
      "image/png": "[encoded data removed]",
      "text/plain": [
       "<Figure size 640x480 with 1 Axes>"
      ]
     },
     "metadata": {},
     "output_type": "display_data"
    }
   ],
   "source": [
    "sns.scatterplot(data=blockchain_data, x='avg-block-size', y='avg-confirmation-time')"
   ]
  },
  {
   "cell_type": "markdown",
   "id": "1ecdaaa7",
   "metadata": {},
   "source": [
    "we see that when the block is overloaded the confirmation time fees explode"
   ]
  },
  {
   "cell_type": "code",
   "execution_count": 147,
   "id": "9bc39988",
   "metadata": {},
   "outputs": [
    {
     "data": {
      "text/plain": [
       "<Axes: xlabel='avg-block-size', ylabel='mean_fee_satoshi'>"
      ]
     },
     "execution_count": 147,
     "metadata": {},
     "output_type": "execute_result"
    },
    {
     "data": {
      "image/png": "[encoded data removed]",
      "text/plain": [
       "<Figure size 640x480 with 1 Axes>"
      ]
     },
     "metadata": {},
     "output_type": "display_data"
    }
   ],
   "source": [
    "sns.scatterplot(data=blockchain_data, x='avg-block-size', y='mean_fee_satoshi')\n"
   ]
  },
  {
   "cell_type": "markdown",
   "id": "49dec9f5",
   "metadata": {},
   "source": [
    "we see that when the block is overloaded the price of transaction fees explode"
   ]
  },
  {
   "cell_type": "markdown",
   "id": "b5d2c113",
   "metadata": {},
   "source": [
    "### 4.3. Size of transactions over the time"
   ]
  },
  {
   "cell_type": "markdown",
   "id": "187ad2ae",
   "metadata": {},
   "source": [
    "Something really important to understand is that miners are paid by the transactions fees for each transaction included in a block and also the reward for adding a new block in the blockchain.\n",
    "\n",
    "The reward for adding a new block is a fixed value of BTC. In the future, it will become 0, fees will be the main mining incentive Therefore the fees size can be roughly estimated with the number of inputs and the number of outputs."
   ]
  },
  {
   "cell_type": "markdown",
   "id": "f47defb4",
   "metadata": {},
   "source": [
    "We chan check how the size of the transaction changes over time."
   ]
  },
  {
   "cell_type": "code",
   "execution_count": 148,
   "id": "6ca3906c",
   "metadata": {},
   "outputs": [
    {
     "data": {
      "text/plain": [
       "<Axes: xlabel='date', ylabel='mean_estimation_size_transaction'>"
      ]
     },
     "execution_count": 148,
     "metadata": {},
     "output_type": "execute_result"
    },
    {
     "data": {
      "image/png": "[encoded data removed]",
      "text/plain": [
       "<Figure size 640x480 with 1 Axes>"
      ]
     },
     "metadata": {},
     "output_type": "display_data"
    }
   ],
   "source": [
    "# Create a new column to estimatate mean transaction size\n",
    "blockchain_data['mean_estimation_size_transaction'] = blockchain_data['mean_nb_outputs'] + blockchain_data['mean_nb_inputs']\n",
    "sns.lineplot(data=blockchain_data, x='date', y='mean_estimation_size_transaction')"
   ]
  },
  {
   "cell_type": "markdown",
   "id": "eb35fcd2",
   "metadata": {},
   "source": [
    "We can see that the mean of transactions size is not stable over the time, indicating that the size of the average transaction is inconsistent.\n",
    "Therefore, it is not enough for miners to simply choose a transaction based on its fees.\n",
    "\n",
    "Miners also need to consider transaction size. Indeed, it is more interesting to include 2 transactions at 25 dollars rather than one at 35 dollars. We can verify that affirmation by plotting the correlation between mean size of transactions and the number of transactions of a block"
   ]
  },
  {
   "cell_type": "code",
   "execution_count": 149,
   "id": "7655201e",
   "metadata": {},
   "outputs": [
    {
     "data": {
      "text/plain": [
       "<Axes: xlabel='n-transactions-per-block', ylabel='mean_estimation_size_transaction'>"
      ]
     },
     "execution_count": 149,
     "metadata": {},
     "output_type": "execute_result"
    },
    {
     "data": {
      "image/png": "[encoded data removed]",
      "text/plain": [
       "<Figure size 640x480 with 1 Axes>"
      ]
     },
     "metadata": {},
     "output_type": "display_data"
    }
   ],
   "source": [
    "sns.scatterplot(data=blockchain_data, x='n-transactions-per-block', y='mean_estimation_size_transaction')"
   ]
  },
  {
   "cell_type": "markdown",
   "id": "f0f7ff56",
   "metadata": {},
   "source": [
    "We can see a negative correlation between the avegare size of a transaction and the average number of transaction inside a block. It means well that miners have to choose carefully the transactions to include in the a block."
   ]
  },
  {
   "cell_type": "markdown",
   "id": "a5d10e0a",
   "metadata": {},
   "source": [
    "### 4.4. Combines all the factors"
   ]
  },
  {
   "cell_type": "code",
   "execution_count": 150,
   "id": "49a9f67c",
   "metadata": {},
   "outputs": [
    {
     "data": {
      "application/vnd.plotly.v1+json": {
       "config": {
        "plotlyServerURL": "https://plot.ly"
       },
       "data": [
        {
         "hovertemplate": "is_big_transaction=True<br>mean_fee_for100=%{x}<br>avg-block-size=%{y}<br>mempool-size=%{marker.size}<extra></extra>",
         "legendgroup": "True",
         "marker": {
          "color": "#636efa",
          "size": [
           23462260.484375,
           20752330.333333332,
           2648297.6458333335,
           3201531.5208333335,
           4020878.1302083335,
           3522290.4010416665,
           2973176.3177083335,
           2247822.875,
           1558329.0625,
           2617824.1510416665,
           7385838.171875,
           3897377.0416666665,
           2836759.390625,
           12422940.833333334,
           6304254.109375,
           4708750.432291667,
           28526508.166666668,
           49263807.895833336,
           8390305.84375,
           1754433,
           10855984.046875,
           8058209.807291667,
           37087917.973958336,
           3367673.4479166665,
           99162420.41666667,
           91928465.18229167,
           57129065.708333336,
           23588364.609375,
           28799296.177083332,
           13278833.427083334
          ],
          "sizemode": "area",
          "sizeref": 464090.58567129634,
          "symbol": "circle"
         },
         "mode": "markers",
         "name": "True",
         "orientation": "v",
         "showlegend": true,
         "type": "scatter",
         "x": [
          1.0859116969260365,
          1.243319410264387,
          1.494692174409845,
          1.090266882061751,
          1.023992643141326,
          1.1368994153214722,
          1.8882677353586657,
          1.5851750877968127,
          1.248081919127607,
          1.0349554280577338,
          1.3890120133024122,
          1.11747456666312,
          1.1158780805050053,
          1.3820267980716734,
          1.598921387220887,
          1.5813886806632729,
          1.7592619434111612,
          2.911751459969386,
          1.9754742493790527,
          1.9040938956108813,
          1.7748875017270058,
          1.784979987341171,
          2.0293540236755354,
          1.9573078382254436,
          3.3533077670748126,
          3.922060494016978,
          3.1757318493393343,
          3.1378836562017742,
          3.426576455367873,
          3.153693475055817
         ],
         "xaxis": "x",
         "y": [
          0.917150355263158,
          0.867727898734177,
          0.614648811688312,
          0.819096189189189,
          0.809272631578947,
          0.714048735483871,
          0.579355497206704,
          0.646603348387097,
          0.570905935135135,
          0.793872953020134,
          0.943928338129497,
          0.810984272108844,
          0.710403196428572,
          0.821504368055555,
          0.944877641509434,
          0.908683579710145,
          0.962289427083333,
          0.960146464516129,
          0.869937534090908,
          0.900950257575758,
          0.962550097560976,
          0.962831892215569,
          0.995109366906475,
          0.930786485507246,
          0.977746641176471,
          0.982358670807454,
          0.983088047297297,
          0.986316271523179,
          0.992577848920864,
          0.927724532786885
         ],
         "yaxis": "y"
        },
        {
         "hovertemplate": "is_big_transaction=False<br>mean_fee_for100=%{x}<br>avg-block-size=%{y}<br>mempool-size=%{marker.size}<extra></extra>",
         "legendgroup": "False",
         "marker": {
          "color": "#EF553B",
          "size": [
           1521212.4739583333,
           3164595.1822916665,
           2246612.359375,
           3725528.0104166665,
           3505673.5625,
           3814855.125,
           6346684.984375,
           5431038.135416667,
           2838744.0208333335,
           3335122.5677083335,
           2887603.7135416665,
           2315632.3333333335,
           2290151.375,
           3215073.609375,
           2131253.3229166665,
           4137421.1770833335,
           6841744.041666667,
           3865057.21875,
           3461146.0989583335,
           4835660.776041667,
           14786227.53125,
           3064492.2916666665,
           8113316.067708333,
           9590720.75,
           13085703.8125,
           5168719.755208333,
           11192595.578125,
           5257571.744791667,
           3116110.1770833335,
           32367947.427083332,
           41537458.463541664,
           28641393.916666668,
           19091975.661458332,
           44889216.583333336,
           47226250.4375,
           55712375.630208336,
           28327601.692708332,
           31973924.958333332,
           42674896.385416664,
           22522248.90625,
           73520276.55208333,
           102554071.015625,
           104420381.77604167,
           96912277.96354167,
           71793729.82291667
          ],
          "sizemode": "area",
          "sizeref": 464090.58567129634,
          "symbol": "circle"
         },
         "mode": "markers",
         "name": "False",
         "orientation": "v",
         "showlegend": true,
         "type": "scatter",
         "x": [
          1.3707329788774008,
          1.1646656002550495,
          1.1935419774304965,
          0.9709622547409992,
          1.0390672403903578,
          0.9376360632580124,
          0.9701707710524128,
          1.1170199759079045,
          1.1135398910452892,
          0.9366075555902642,
          2.5216803224099893,
          1.2095799439012995,
          1.1129030238829445,
          1.3119215807480424,
          1.430473946517113,
          1.0519307026465374,
          1.0692100348439904,
          1.0792320386333594,
          1.0276591074515211,
          1.2076648129694212,
          1.4750967222361593,
          1.3248596756580338,
          1.1832892022047938,
          1.201124505310182,
          1.19382616890297,
          1.325919529922209,
          1.305555942184054,
          1.4149471948963226,
          1.3397806963733718,
          1.7950977474660097,
          1.6944428061058667,
          1.6049293666028943,
          2.0903279156966765,
          1.8683637410859129,
          2.375888824937225,
          2.69668848235857,
          2.3527169377109214,
          1.8632490525121068,
          1.9878913296731104,
          1.801491880763569,
          1.9983067678784887,
          2.160933081878932,
          2.515055022585812,
          2.6313943892069696,
          3.5157402910619857
         ],
         "xaxis": "x",
         "y": [
          0.777207469387755,
          0.79751048,
          0.775825874125874,
          0.790217274074074,
          0.870160470588235,
          0.859341909090909,
          0.701046035502959,
          0.949801211382114,
          0.828971619047619,
          0.849244964285714,
          0.809331835526316,
          0.835041233082707,
          0.762582106382979,
          0.867495489510489,
          0.858421758064516,
          0.9120396875,
          0.816514105263158,
          0.891798598639455,
          0.854411583333334,
          0.912247464788732,
          0.880861970930233,
          0.806014641025641,
          0.955426385826771,
          0.861416375886525,
          0.963965635220126,
          0.871707828025477,
          0.984196892857143,
          0.900242,
          0.722272793650793,
          0.952156423611111,
          0.945680754966887,
          0.967545204081633,
          0.930882358208955,
          0.977160297101449,
          0.966332389221557,
          0.991798216216216,
          0.983983570422535,
          0.971854882352941,
          0.971570312138729,
          0.980238126582278,
          0.961245868217055,
          0.975085658536585,
          0.981881941935484,
          0.967212927272727,
          0.992122860606061
         ],
         "yaxis": "y"
        }
       ],
       "layout": {
        "legend": {
         "itemsizing": "constant",
         "title": {
          "text": "is_big_transaction"
         },
         "tracegroupgap": 0
        },
        "template": {
         "data": {
          "bar": [
           {
            "error_x": {
             "color": "#2a3f5f"
            },
            "error_y": {
             "color": "#2a3f5f"
            },
            "marker": {
             "line": {
              "color": "#E5ECF6",
              "width": 0.5
             },
             "pattern": {
              "fillmode": "overlay",
              "size": 10,
              "solidity": 0.2
             }
            },
            "type": "bar"
           }
          ],
          "barpolar": [
           {
            "marker": {
             "line": {
              "color": "#E5ECF6",
              "width": 0.5
             },
             "pattern": {
              "fillmode": "overlay",
              "size": 10,
              "solidity": 0.2
             }
            },
            "type": "barpolar"
           }
          ],
          "carpet": [
           {
            "aaxis": {
             "endlinecolor": "#2a3f5f",
             "gridcolor": "white",
             "linecolor": "white",
             "minorgridcolor": "white",
             "startlinecolor": "#2a3f5f"
            },
            "baxis": {
             "endlinecolor": "#2a3f5f",
             "gridcolor": "white",
             "linecolor": "white",
             "minorgridcolor": "white",
             "startlinecolor": "#2a3f5f"
            },
            "type": "carpet"
           }
          ],
          "choropleth": [
           {
            "colorbar": {
             "outlinewidth": 0,
             "ticks": ""
            },
            "type": "choropleth"
           }
          ],
          "contour": [
           {
            "colorbar": {
             "outlinewidth": 0,
             "ticks": ""
            },
            "colorscale": [
             [
              0,
              "#0d0887"
             ],
             [
              0.1111111111111111,
              "#46039f"
             ],
             [
              0.2222222222222222,
              "#7201a8"
             ],
             [
              0.3333333333333333,
              "#9c179e"
             ],
             [
              0.4444444444444444,
              "#bd3786"
             ],
             [
              0.5555555555555556,
              "#d8576b"
             ],
             [
              0.6666666666666666,
              "#ed7953"
             ],
             [
              0.7777777777777778,
              "#fb9f3a"
             ],
             [
              0.8888888888888888,
              "#fdca26"
             ],
             [
              1,
              "#f0f921"
             ]
            ],
            "type": "contour"
           }
          ],
          "contourcarpet": [
           {
            "colorbar": {
             "outlinewidth": 0,
             "ticks": ""
            },
            "type": "contourcarpet"
           }
          ],
          "heatmap": [
           {
            "colorbar": {
             "outlinewidth": 0,
             "ticks": ""
            },
            "colorscale": [
             [
              0,
              "#0d0887"
             ],
             [
              0.1111111111111111,
              "#46039f"
             ],
             [
              0.2222222222222222,
              "#7201a8"
             ],
             [
              0.3333333333333333,
              "#9c179e"
             ],
             [
              0.4444444444444444,
              "#bd3786"
             ],
             [
              0.5555555555555556,
              "#d8576b"
             ],
             [
              0.6666666666666666,
              "#ed7953"
             ],
             [
              0.7777777777777778,
              "#fb9f3a"
             ],
             [
              0.8888888888888888,
              "#fdca26"
             ],
             [
              1,
              "#f0f921"
             ]
            ],
            "type": "heatmap"
           }
          ],
          "heatmapgl": [
           {
            "colorbar": {
             "outlinewidth": 0,
             "ticks": ""
            },
            "colorscale": [
             [
              0,
              "#0d0887"
             ],
             [
              0.1111111111111111,
              "#46039f"
             ],
             [
              0.2222222222222222,
              "#7201a8"
             ],
             [
              0.3333333333333333,
              "#9c179e"
             ],
             [
              0.4444444444444444,
              "#bd3786"
             ],
             [
              0.5555555555555556,
              "#d8576b"
             ],
             [
              0.6666666666666666,
              "#ed7953"
             ],
             [
              0.7777777777777778,
              "#fb9f3a"
             ],
             [
              0.8888888888888888,
              "#fdca26"
             ],
             [
              1,
              "#f0f921"
             ]
            ],
            "type": "heatmapgl"
           }
          ],
          "histogram": [
           {
            "marker": {
             "pattern": {
              "fillmode": "overlay",
              "size": 10,
              "solidity": 0.2
             }
            },
            "type": "histogram"
           }
          ],
          "histogram2d": [
           {
            "colorbar": {
             "outlinewidth": 0,
             "ticks": ""
            },
            "colorscale": [
             [
              0,
              "#0d0887"
             ],
             [
              0.1111111111111111,
              "#46039f"
             ],
             [
              0.2222222222222222,
              "#7201a8"
             ],
             [
              0.3333333333333333,
              "#9c179e"
             ],
             [
              0.4444444444444444,
              "#bd3786"
             ],
             [
              0.5555555555555556,
              "#d8576b"
             ],
             [
              0.6666666666666666,
              "#ed7953"
             ],
             [
              0.7777777777777778,
              "#fb9f3a"
             ],
             [
              0.8888888888888888,
              "#fdca26"
             ],
             [
              1,
              "#f0f921"
             ]
            ],
            "type": "histogram2d"
           }
          ],
          "histogram2dcontour": [
           {
            "colorbar": {
             "outlinewidth": 0,
             "ticks": ""
            },
            "colorscale": [
             [
              0,
              "#0d0887"
             ],
             [
              0.1111111111111111,
              "#46039f"
             ],
             [
              0.2222222222222222,
              "#7201a8"
             ],
             [
              0.3333333333333333,
              "#9c179e"
             ],
             [
              0.4444444444444444,
              "#bd3786"
             ],
             [
              0.5555555555555556,
              "#d8576b"
             ],
             [
              0.6666666666666666,
              "#ed7953"
             ],
             [
              0.7777777777777778,
              "#fb9f3a"
             ],
             [
              0.8888888888888888,
              "#fdca26"
             ],
             [
              1,
              "#f0f921"
             ]
            ],
            "type": "histogram2dcontour"
           }
          ],
          "mesh3d": [
           {
            "colorbar": {
             "outlinewidth": 0,
             "ticks": ""
            },
            "type": "mesh3d"
           }
          ],
          "parcoords": [
           {
            "line": {
             "colorbar": {
              "outlinewidth": 0,
              "ticks": ""
             }
            },
            "type": "parcoords"
           }
          ],
          "pie": [
           {
            "automargin": true,
            "type": "pie"
           }
          ],
          "scatter": [
           {
            "fillpattern": {
             "fillmode": "overlay",
             "size": 10,
             "solidity": 0.2
            },
            "type": "scatter"
           }
          ],
          "scatter3d": [
           {
            "line": {
             "colorbar": {
              "outlinewidth": 0,
              "ticks": ""
             }
            },
            "marker": {
             "colorbar": {
              "outlinewidth": 0,
              "ticks": ""
             }
            },
            "type": "scatter3d"
           }
          ],
          "scattercarpet": [
           {
            "marker": {
             "colorbar": {
              "outlinewidth": 0,
              "ticks": ""
             }
            },
            "type": "scattercarpet"
           }
          ],
          "scattergeo": [
           {
            "marker": {
             "colorbar": {
              "outlinewidth": 0,
              "ticks": ""
             }
            },
            "type": "scattergeo"
           }
          ],
          "scattergl": [
           {
            "marker": {
             "colorbar": {
              "outlinewidth": 0,
              "ticks": ""
             }
            },
            "type": "scattergl"
           }
          ],
          "scattermapbox": [
           {
            "marker": {
             "colorbar": {
              "outlinewidth": 0,
              "ticks": ""
             }
            },
            "type": "scattermapbox"
           }
          ],
          "scatterpolar": [
           {
            "marker": {
             "colorbar": {
              "outlinewidth": 0,
              "ticks": ""
             }
            },
            "type": "scatterpolar"
           }
          ],
          "scatterpolargl": [
           {
            "marker": {
             "colorbar": {
              "outlinewidth": 0,
              "ticks": ""
             }
            },
            "type": "scatterpolargl"
           }
          ],
          "scatterternary": [
           {
            "marker": {
             "colorbar": {
              "outlinewidth": 0,
              "ticks": ""
             }
            },
            "type": "scatterternary"
           }
          ],
          "surface": [
           {
            "colorbar": {
             "outlinewidth": 0,
             "ticks": ""
            },
            "colorscale": [
             [
              0,
              "#0d0887"
             ],
             [
              0.1111111111111111,
              "#46039f"
             ],
             [
              0.2222222222222222,
              "#7201a8"
             ],
             [
              0.3333333333333333,
              "#9c179e"
             ],
             [
              0.4444444444444444,
              "#bd3786"
             ],
             [
              0.5555555555555556,
              "#d8576b"
             ],
             [
              0.6666666666666666,
              "#ed7953"
             ],
             [
              0.7777777777777778,
              "#fb9f3a"
             ],
             [
              0.8888888888888888,
              "#fdca26"
             ],
             [
              1,
              "#f0f921"
             ]
            ],
            "type": "surface"
           }
          ],
          "table": [
           {
            "cells": {
             "fill": {
              "color": "#EBF0F8"
             },
             "line": {
              "color": "white"
             }
            },
            "header": {
             "fill": {
              "color": "#C8D4E3"
             },
             "line": {
              "color": "white"
             }
            },
            "type": "table"
           }
          ]
         },
         "layout": {
          "annotationdefaults": {
           "arrowcolor": "#2a3f5f",
           "arrowhead": 0,
           "arrowwidth": 1
          },
          "autotypenumbers": "strict",
          "coloraxis": {
           "colorbar": {
            "outlinewidth": 0,
            "ticks": ""
           }
          },
          "colorscale": {
           "diverging": [
            [
             0,
             "#8e0152"
            ],
            [
             0.1,
             "#c51b7d"
            ],
            [
             0.2,
             "#de77ae"
            ],
            [
             0.3,
             "#f1b6da"
            ],
            [
             0.4,
             "#fde0ef"
            ],
            [
             0.5,
             "#f7f7f7"
            ],
            [
             0.6,
             "#e6f5d0"
            ],
            [
             0.7,
             "#b8e186"
            ],
            [
             0.8,
             "#7fbc41"
            ],
            [
             0.9,
             "#4d9221"
            ],
            [
             1,
             "#276419"
            ]
           ],
           "sequential": [
            [
             0,
             "#0d0887"
            ],
            [
             0.1111111111111111,
             "#46039f"
            ],
            [
             0.2222222222222222,
             "#7201a8"
            ],
            [
             0.3333333333333333,
             "#9c179e"
            ],
            [
             0.4444444444444444,
             "#bd3786"
            ],
            [
             0.5555555555555556,
             "#d8576b"
            ],
            [
             0.6666666666666666,
             "#ed7953"
            ],
            [
             0.7777777777777778,
             "#fb9f3a"
            ],
            [
             0.8888888888888888,
             "#fdca26"
            ],
            [
             1,
             "#f0f921"
            ]
           ],
           "sequentialminus": [
            [
             0,
             "#0d0887"
            ],
            [
             0.1111111111111111,
             "#46039f"
            ],
            [
             0.2222222222222222,
             "#7201a8"
            ],
            [
             0.3333333333333333,
             "#9c179e"
            ],
            [
             0.4444444444444444,
             "#bd3786"
            ],
            [
             0.5555555555555556,
             "#d8576b"
            ],
            [
             0.6666666666666666,
             "#ed7953"
            ],
            [
             0.7777777777777778,
             "#fb9f3a"
            ],
            [
             0.8888888888888888,
             "#fdca26"
            ],
            [
             1,
             "#f0f921"
            ]
           ]
          },
          "colorway": [
           "#636efa",
           "#EF553B",
           "#00cc96",
           "#ab63fa",
           "#FFA15A",
           "#19d3f3",
           "#FF6692",
           "#B6E880",
           "#FF97FF",
           "#FECB52"
          ],
          "font": {
           "color": "#2a3f5f"
          },
          "geo": {
           "bgcolor": "white",
           "lakecolor": "white",
           "landcolor": "#E5ECF6",
           "showlakes": true,
           "showland": true,
           "subunitcolor": "white"
          },
          "hoverlabel": {
           "align": "left"
          },
          "hovermode": "closest",
          "mapbox": {
           "style": "light"
          },
          "paper_bgcolor": "white",
          "plot_bgcolor": "#E5ECF6",
          "polar": {
           "angularaxis": {
            "gridcolor": "white",
            "linecolor": "white",
            "ticks": ""
           },
           "bgcolor": "#E5ECF6",
           "radialaxis": {
            "gridcolor": "white",
            "linecolor": "white",
            "ticks": ""
           }
          },
          "scene": {
           "xaxis": {
            "backgroundcolor": "#E5ECF6",
            "gridcolor": "white",
            "gridwidth": 2,
            "linecolor": "white",
            "showbackground": true,
            "ticks": "",
            "zerolinecolor": "white"
           },
           "yaxis": {
            "backgroundcolor": "#E5ECF6",
            "gridcolor": "white",
            "gridwidth": 2,
            "linecolor": "white",
            "showbackground": true,
            "ticks": "",
            "zerolinecolor": "white"
           },
           "zaxis": {
            "backgroundcolor": "#E5ECF6",
            "gridcolor": "white",
            "gridwidth": 2,
            "linecolor": "white",
            "showbackground": true,
            "ticks": "",
            "zerolinecolor": "white"
           }
          },
          "shapedefaults": {
           "line": {
            "color": "#2a3f5f"
           }
          },
          "ternary": {
           "aaxis": {
            "gridcolor": "white",
            "linecolor": "white",
            "ticks": ""
           },
           "baxis": {
            "gridcolor": "white",
            "linecolor": "white",
            "ticks": ""
           },
           "bgcolor": "#E5ECF6",
           "caxis": {
            "gridcolor": "white",
            "linecolor": "white",
            "ticks": ""
           }
          },
          "title": {
           "x": 0.05
          },
          "xaxis": {
           "automargin": true,
           "gridcolor": "white",
           "linecolor": "white",
           "ticks": "",
           "title": {
            "standoff": 15
           },
           "zerolinecolor": "white",
           "zerolinewidth": 2
          },
          "yaxis": {
           "automargin": true,
           "gridcolor": "white",
           "linecolor": "white",
           "ticks": "",
           "title": {
            "standoff": 15
           },
           "zerolinecolor": "white",
           "zerolinewidth": 2
          }
         }
        },
        "title": {
         "text": "Transactions characteristics"
        },
        "xaxis": {
         "anchor": "y",
         "domain": [
          0,
          1
         ],
         "title": {
          "text": "mean_fee_for100"
         },
         "type": "log"
        },
        "yaxis": {
         "anchor": "x",
         "domain": [
          0,
          1
         ],
         "title": {
          "text": "avg-block-size"
         }
        }
       }
      },
      "text/html": [
       "<div>                            <div id=\"19b7ed96-b2ec-4544-9a6d-5552749ed6b3\" class=\"plotly-graph-div\" style=\"height:525px; width:100%;\"></div>            <script type=\"text/javascript\">                require([\"plotly\"], function(Plotly) {                    window.PLOTLYENV=window.PLOTLYENV || {};                                    if (document.getElementById(\"19b7ed96-b2ec-4544-9a6d-5552749ed6b3\")) {                    Plotly.newPlot(                        \"19b7ed96-b2ec-4544-9a6d-5552749ed6b3\",                        [{\"hovertemplate\":\"is_big_transaction=True<br>mean_fee_for100=%{x}<br>avg-block-size=%{y}<br>mempool-size=%{marker.size}<extra></extra>\",\"legendgroup\":\"True\",\"marker\":{\"color\":\"#636efa\",\"size\":[23462260.484375,20752330.333333332,2648297.6458333335,3201531.5208333335,4020878.1302083335,3522290.4010416665,2973176.3177083335,2247822.875,1558329.0625,2617824.1510416665,7385838.171875,3897377.0416666665,2836759.390625,12422940.833333334,6304254.109375,4708750.432291667,28526508.166666668,49263807.895833336,8390305.84375,1754433.0,10855984.046875,8058209.807291667,37087917.973958336,3367673.4479166665,99162420.41666667,91928465.18229167,57129065.708333336,23588364.609375,28799296.177083332,13278833.427083334],\"sizemode\":\"area\",\"sizeref\":464090.58567129634,\"symbol\":\"circle\"},\"mode\":\"markers\",\"name\":\"True\",\"orientation\":\"v\",\"showlegend\":true,\"x\":[1.0859116969260365,1.243319410264387,1.494692174409845,1.090266882061751,1.023992643141326,1.1368994153214722,1.8882677353586657,1.5851750877968127,1.248081919127607,1.0349554280577338,1.3890120133024122,1.11747456666312,1.1158780805050053,1.3820267980716734,1.598921387220887,1.5813886806632729,1.7592619434111612,2.911751459969386,1.9754742493790527,1.9040938956108813,1.7748875017270058,1.784979987341171,2.0293540236755354,1.9573078382254436,3.3533077670748126,3.922060494016978,3.1757318493393343,3.1378836562017742,3.426576455367873,3.153693475055817],\"xaxis\":\"x\",\"y\":[0.917150355263158,0.867727898734177,0.614648811688312,0.819096189189189,0.809272631578947,0.714048735483871,0.579355497206704,0.646603348387097,0.570905935135135,0.793872953020134,0.943928338129497,0.810984272108844,0.710403196428572,0.821504368055555,0.944877641509434,0.908683579710145,0.962289427083333,0.960146464516129,0.869937534090908,0.900950257575758,0.962550097560976,0.962831892215569,0.995109366906475,0.930786485507246,0.977746641176471,0.982358670807454,0.983088047297297,0.986316271523179,0.992577848920864,0.927724532786885],\"yaxis\":\"y\",\"type\":\"scatter\"},{\"hovertemplate\":\"is_big_transaction=False<br>mean_fee_for100=%{x}<br>avg-block-size=%{y}<br>mempool-size=%{marker.size}<extra></extra>\",\"legendgroup\":\"False\",\"marker\":{\"color\":\"#EF553B\",\"size\":[1521212.4739583333,3164595.1822916665,2246612.359375,3725528.0104166665,3505673.5625,3814855.125,6346684.984375,5431038.135416667,2838744.0208333335,3335122.5677083335,2887603.7135416665,2315632.3333333335,2290151.375,3215073.609375,2131253.3229166665,4137421.1770833335,6841744.041666667,3865057.21875,3461146.0989583335,4835660.776041667,14786227.53125,3064492.2916666665,8113316.067708333,9590720.75,13085703.8125,5168719.755208333,11192595.578125,5257571.744791667,3116110.1770833335,32367947.427083332,41537458.463541664,28641393.916666668,19091975.661458332,44889216.583333336,47226250.4375,55712375.630208336,28327601.692708332,31973924.958333332,42674896.385416664,22522248.90625,73520276.55208333,102554071.015625,104420381.77604167,96912277.96354167,71793729.82291667],\"sizemode\":\"area\",\"sizeref\":464090.58567129634,\"symbol\":\"circle\"},\"mode\":\"markers\",\"name\":\"False\",\"orientation\":\"v\",\"showlegend\":true,\"x\":[1.3707329788774008,1.1646656002550495,1.1935419774304965,0.9709622547409992,1.0390672403903578,0.9376360632580124,0.9701707710524128,1.1170199759079045,1.1135398910452892,0.9366075555902642,2.5216803224099893,1.2095799439012995,1.1129030238829445,1.3119215807480424,1.430473946517113,1.0519307026465374,1.0692100348439904,1.0792320386333594,1.0276591074515211,1.2076648129694212,1.4750967222361593,1.3248596756580338,1.1832892022047938,1.201124505310182,1.19382616890297,1.325919529922209,1.305555942184054,1.4149471948963226,1.3397806963733718,1.7950977474660097,1.6944428061058667,1.6049293666028943,2.0903279156966765,1.8683637410859129,2.375888824937225,2.69668848235857,2.3527169377109214,1.8632490525121068,1.9878913296731104,1.801491880763569,1.9983067678784887,2.160933081878932,2.515055022585812,2.6313943892069696,3.5157402910619857],\"xaxis\":\"x\",\"y\":[0.777207469387755,0.79751048,0.775825874125874,0.790217274074074,0.870160470588235,0.859341909090909,0.701046035502959,0.949801211382114,0.828971619047619,0.849244964285714,0.809331835526316,0.835041233082707,0.762582106382979,0.867495489510489,0.858421758064516,0.9120396875,0.816514105263158,0.891798598639455,0.854411583333334,0.912247464788732,0.880861970930233,0.806014641025641,0.955426385826771,0.861416375886525,0.963965635220126,0.871707828025477,0.984196892857143,0.900242,0.722272793650793,0.952156423611111,0.945680754966887,0.967545204081633,0.930882358208955,0.977160297101449,0.966332389221557,0.991798216216216,0.983983570422535,0.971854882352941,0.971570312138729,0.980238126582278,0.961245868217055,0.975085658536585,0.981881941935484,0.967212927272727,0.992122860606061],\"yaxis\":\"y\",\"type\":\"scatter\"}],                        {\"template\":{\"data\":{\"histogram2dcontour\":[{\"type\":\"histogram2dcontour\",\"colorbar\":{\"outlinewidth\":0,\"ticks\":\"\"},\"colorscale\":[[0.0,\"#0d0887\"],[0.1111111111111111,\"#46039f\"],[0.2222222222222222,\"#7201a8\"],[0.3333333333333333,\"#9c179e\"],[0.4444444444444444,\"#bd3786\"],[0.5555555555555556,\"#d8576b\"],[0.6666666666666666,\"#ed7953\"],[0.7777777777777778,\"#fb9f3a\"],[0.8888888888888888,\"#fdca26\"],[1.0,\"#f0f921\"]]}],\"choropleth\":[{\"type\":\"choropleth\",\"colorbar\":{\"outlinewidth\":0,\"ticks\":\"\"}}],\"histogram2d\":[{\"type\":\"histogram2d\",\"colorbar\":{\"outlinewidth\":0,\"ticks\":\"\"},\"colorscale\":[[0.0,\"#0d0887\"],[0.1111111111111111,\"#46039f\"],[0.2222222222222222,\"#7201a8\"],[0.3333333333333333,\"#9c179e\"],[0.4444444444444444,\"#bd3786\"],[0.5555555555555556,\"#d8576b\"],[0.6666666666666666,\"#ed7953\"],[0.7777777777777778,\"#fb9f3a\"],[0.8888888888888888,\"#fdca26\"],[1.0,\"#f0f921\"]]}],\"heatmap\":[{\"type\":\"heatmap\",\"colorbar\":{\"outlinewidth\":0,\"ticks\":\"\"},\"colorscale\":[[0.0,\"#0d0887\"],[0.1111111111111111,\"#46039f\"],[0.2222222222222222,\"#7201a8\"],[0.3333333333333333,\"#9c179e\"],[0.4444444444444444,\"#bd3786\"],[0.5555555555555556,\"#d8576b\"],[0.6666666666666666,\"#ed7953\"],[0.7777777777777778,\"#fb9f3a\"],[0.8888888888888888,\"#fdca26\"],[1.0,\"#f0f921\"]]}],\"heatmapgl\":[{\"type\":\"heatmapgl\",\"colorbar\":{\"outlinewidth\":0,\"ticks\":\"\"},\"colorscale\":[[0.0,\"#0d0887\"],[0.1111111111111111,\"#46039f\"],[0.2222222222222222,\"#7201a8\"],[0.3333333333333333,\"#9c179e\"],[0.4444444444444444,\"#bd3786\"],[0.5555555555555556,\"#d8576b\"],[0.6666666666666666,\"#ed7953\"],[0.7777777777777778,\"#fb9f3a\"],[0.8888888888888888,\"#fdca26\"],[1.0,\"#f0f921\"]]}],\"contourcarpet\":[{\"type\":\"contourcarpet\",\"colorbar\":{\"outlinewidth\":0,\"ticks\":\"\"}}],\"contour\":[{\"type\":\"contour\",\"colorbar\":{\"outlinewidth\":0,\"ticks\":\"\"},\"colorscale\":[[0.0,\"#0d0887\"],[0.1111111111111111,\"#46039f\"],[0.2222222222222222,\"#7201a8\"],[0.3333333333333333,\"#9c179e\"],[0.4444444444444444,\"#bd3786\"],[0.5555555555555556,\"#d8576b\"],[0.6666666666666666,\"#ed7953\"],[0.7777777777777778,\"#fb9f3a\"],[0.8888888888888888,\"#fdca26\"],[1.0,\"#f0f921\"]]}],\"surface\":[{\"type\":\"surface\",\"colorbar\":{\"outlinewidth\":0,\"ticks\":\"\"},\"colorscale\":[[0.0,\"#0d0887\"],[0.1111111111111111,\"#46039f\"],[0.2222222222222222,\"#7201a8\"],[0.3333333333333333,\"#9c179e\"],[0.4444444444444444,\"#bd3786\"],[0.5555555555555556,\"#d8576b\"],[0.6666666666666666,\"#ed7953\"],[0.7777777777777778,\"#fb9f3a\"],[0.8888888888888888,\"#fdca26\"],[1.0,\"#f0f921\"]]}],\"mesh3d\":[{\"type\":\"mesh3d\",\"colorbar\":{\"outlinewidth\":0,\"ticks\":\"\"}}],\"scatter\":[{\"fillpattern\":{\"fillmode\":\"overlay\",\"size\":10,\"solidity\":0.2},\"type\":\"scatter\"}],\"parcoords\":[{\"type\":\"parcoords\",\"line\":{\"colorbar\":{\"outlinewidth\":0,\"ticks\":\"\"}}}],\"scatterpolargl\":[{\"type\":\"scatterpolargl\",\"marker\":{\"colorbar\":{\"outlinewidth\":0,\"ticks\":\"\"}}}],\"bar\":[{\"error_x\":{\"color\":\"#2a3f5f\"},\"error_y\":{\"color\":\"#2a3f5f\"},\"marker\":{\"line\":{\"color\":\"#E5ECF6\",\"width\":0.5},\"pattern\":{\"fillmode\":\"overlay\",\"size\":10,\"solidity\":0.2}},\"type\":\"bar\"}],\"scattergeo\":[{\"type\":\"scattergeo\",\"marker\":{\"colorbar\":{\"outlinewidth\":0,\"ticks\":\"\"}}}],\"scatterpolar\":[{\"type\":\"scatterpolar\",\"marker\":{\"colorbar\":{\"outlinewidth\":0,\"ticks\":\"\"}}}],\"histogram\":[{\"marker\":{\"pattern\":{\"fillmode\":\"overlay\",\"size\":10,\"solidity\":0.2}},\"type\":\"histogram\"}],\"scattergl\":[{\"type\":\"scattergl\",\"marker\":{\"colorbar\":{\"outlinewidth\":0,\"ticks\":\"\"}}}],\"scatter3d\":[{\"type\":\"scatter3d\",\"line\":{\"colorbar\":{\"outlinewidth\":0,\"ticks\":\"\"}},\"marker\":{\"colorbar\":{\"outlinewidth\":0,\"ticks\":\"\"}}}],\"scattermapbox\":[{\"type\":\"scattermapbox\",\"marker\":{\"colorbar\":{\"outlinewidth\":0,\"ticks\":\"\"}}}],\"scatterternary\":[{\"type\":\"scatterternary\",\"marker\":{\"colorbar\":{\"outlinewidth\":0,\"ticks\":\"\"}}}],\"scattercarpet\":[{\"type\":\"scattercarpet\",\"marker\":{\"colorbar\":{\"outlinewidth\":0,\"ticks\":\"\"}}}],\"carpet\":[{\"aaxis\":{\"endlinecolor\":\"#2a3f5f\",\"gridcolor\":\"white\",\"linecolor\":\"white\",\"minorgridcolor\":\"white\",\"startlinecolor\":\"#2a3f5f\"},\"baxis\":{\"endlinecolor\":\"#2a3f5f\",\"gridcolor\":\"white\",\"linecolor\":\"white\",\"minorgridcolor\":\"white\",\"startlinecolor\":\"#2a3f5f\"},\"type\":\"carpet\"}],\"table\":[{\"cells\":{\"fill\":{\"color\":\"#EBF0F8\"},\"line\":{\"color\":\"white\"}},\"header\":{\"fill\":{\"color\":\"#C8D4E3\"},\"line\":{\"color\":\"white\"}},\"type\":\"table\"}],\"barpolar\":[{\"marker\":{\"line\":{\"color\":\"#E5ECF6\",\"width\":0.5},\"pattern\":{\"fillmode\":\"overlay\",\"size\":10,\"solidity\":0.2}},\"type\":\"barpolar\"}],\"pie\":[{\"automargin\":true,\"type\":\"pie\"}]},\"layout\":{\"autotypenumbers\":\"strict\",\"colorway\":[\"#636efa\",\"#EF553B\",\"#00cc96\",\"#ab63fa\",\"#FFA15A\",\"#19d3f3\",\"#FF6692\",\"#B6E880\",\"#FF97FF\",\"#FECB52\"],\"font\":{\"color\":\"#2a3f5f\"},\"hovermode\":\"closest\",\"hoverlabel\":{\"align\":\"left\"},\"paper_bgcolor\":\"white\",\"plot_bgcolor\":\"#E5ECF6\",\"polar\":{\"bgcolor\":\"#E5ECF6\",\"angularaxis\":{\"gridcolor\":\"white\",\"linecolor\":\"white\",\"ticks\":\"\"},\"radialaxis\":{\"gridcolor\":\"white\",\"linecolor\":\"white\",\"ticks\":\"\"}},\"ternary\":{\"bgcolor\":\"#E5ECF6\",\"aaxis\":{\"gridcolor\":\"white\",\"linecolor\":\"white\",\"ticks\":\"\"},\"baxis\":{\"gridcolor\":\"white\",\"linecolor\":\"white\",\"ticks\":\"\"},\"caxis\":{\"gridcolor\":\"white\",\"linecolor\":\"white\",\"ticks\":\"\"}},\"coloraxis\":{\"colorbar\":{\"outlinewidth\":0,\"ticks\":\"\"}},\"colorscale\":{\"sequential\":[[0.0,\"#0d0887\"],[0.1111111111111111,\"#46039f\"],[0.2222222222222222,\"#7201a8\"],[0.3333333333333333,\"#9c179e\"],[0.4444444444444444,\"#bd3786\"],[0.5555555555555556,\"#d8576b\"],[0.6666666666666666,\"#ed7953\"],[0.7777777777777778,\"#fb9f3a\"],[0.8888888888888888,\"#fdca26\"],[1.0,\"#f0f921\"]],\"sequentialminus\":[[0.0,\"#0d0887\"],[0.1111111111111111,\"#46039f\"],[0.2222222222222222,\"#7201a8\"],[0.3333333333333333,\"#9c179e\"],[0.4444444444444444,\"#bd3786\"],[0.5555555555555556,\"#d8576b\"],[0.6666666666666666,\"#ed7953\"],[0.7777777777777778,\"#fb9f3a\"],[0.8888888888888888,\"#fdca26\"],[1.0,\"#f0f921\"]],\"diverging\":[[0,\"#8e0152\"],[0.1,\"#c51b7d\"],[0.2,\"#de77ae\"],[0.3,\"#f1b6da\"],[0.4,\"#fde0ef\"],[0.5,\"#f7f7f7\"],[0.6,\"#e6f5d0\"],[0.7,\"#b8e186\"],[0.8,\"#7fbc41\"],[0.9,\"#4d9221\"],[1,\"#276419\"]]},\"xaxis\":{\"gridcolor\":\"white\",\"linecolor\":\"white\",\"ticks\":\"\",\"title\":{\"standoff\":15},\"zerolinecolor\":\"white\",\"automargin\":true,\"zerolinewidth\":2},\"yaxis\":{\"gridcolor\":\"white\",\"linecolor\":\"white\",\"ticks\":\"\",\"title\":{\"standoff\":15},\"zerolinecolor\":\"white\",\"automargin\":true,\"zerolinewidth\":2},\"scene\":{\"xaxis\":{\"backgroundcolor\":\"#E5ECF6\",\"gridcolor\":\"white\",\"linecolor\":\"white\",\"showbackground\":true,\"ticks\":\"\",\"zerolinecolor\":\"white\",\"gridwidth\":2},\"yaxis\":{\"backgroundcolor\":\"#E5ECF6\",\"gridcolor\":\"white\",\"linecolor\":\"white\",\"showbackground\":true,\"ticks\":\"\",\"zerolinecolor\":\"white\",\"gridwidth\":2},\"zaxis\":{\"backgroundcolor\":\"#E5ECF6\",\"gridcolor\":\"white\",\"linecolor\":\"white\",\"showbackground\":true,\"ticks\":\"\",\"zerolinecolor\":\"white\",\"gridwidth\":2}},\"shapedefaults\":{\"line\":{\"color\":\"#2a3f5f\"}},\"annotationdefaults\":{\"arrowcolor\":\"#2a3f5f\",\"arrowhead\":0,\"arrowwidth\":1},\"geo\":{\"bgcolor\":\"white\",\"landcolor\":\"#E5ECF6\",\"subunitcolor\":\"white\",\"showland\":true,\"showlakes\":true,\"lakecolor\":\"white\"},\"title\":{\"x\":0.05},\"mapbox\":{\"style\":\"light\"}}},\"xaxis\":{\"anchor\":\"y\",\"domain\":[0.0,1.0],\"title\":{\"text\":\"mean_fee_for100\"},\"type\":\"log\"},\"yaxis\":{\"anchor\":\"x\",\"domain\":[0.0,1.0],\"title\":{\"text\":\"avg-block-size\"}},\"legend\":{\"title\":{\"text\":\"is_big_transaction\"},\"tracegroupgap\":0,\"itemsizing\":\"constant\"},\"title\":{\"text\":\"Transactions characteristics\"}},                        {\"responsive\": true}                    ).then(function(){\n",
       "                            \n",
       "var gd = document.getElementById('19b7ed96-b2ec-4544-9a6d-5552749ed6b3');\n",
       "var x = new MutationObserver(function (mutations, observer) {{\n",
       "        var display = window.getComputedStyle(gd).display;\n",
       "        if (!display || display === 'none') {{\n",
       "            console.log([gd, 'removed!']);\n",
       "            Plotly.purge(gd);\n",
       "            observer.disconnect();\n",
       "        }}\n",
       "}});\n",
       "\n",
       "// Listen for the removal of the full notebook cells\n",
       "var notebookContainer = gd.closest('#notebook-container');\n",
       "if (notebookContainer) {{\n",
       "    x.observe(notebookContainer, {childList: true});\n",
       "}}\n",
       "\n",
       "// Listen for the clearing of the current output cell\n",
       "var outputEl = gd.closest('.output');\n",
       "if (outputEl) {{\n",
       "    x.observe(outputEl, {childList: true});\n",
       "}}\n",
       "\n",
       "                        })                };                });            </script>        </div>"
      ]
     },
     "metadata": {},
     "output_type": "display_data"
    }
   ],
   "source": [
    "# add a column is_big_transaction, True if the mean size transaction is higher that the total mean\n",
    "blockchain_data['is_big_transaction'] = blockchain_data['mean_estimation_size_transaction'] > blockchain_data['mean_estimation_size_transaction'].mean()\n",
    "\n",
    "fig = px.scatter(blockchain_data, x='mean_fee_for100', y='avg-block-size', log_x=True, color='is_big_transaction',\n",
    "                 title=\"Transactions characteristics\",\n",
    "                 size='mempool-size', size_max=15)\n",
    "\n",
    "fig"
   ]
  },
  {
   "cell_type": "markdown",
   "id": "e12aadfa",
   "metadata": {},
   "source": [
    "The graph above allows us to see that the transactions with the highest fees are also the transactions with the highest sizes. We see that this phenomenon intensifies when the size of the blocks and the size of the mempool increase."
   ]
  },
  {
   "cell_type": "markdown",
   "id": "bd33f266",
   "metadata": {},
   "source": [
    "## 5. Conclusion\n",
    "\n",
    "Based on the exploratory analysis of the three datasets, we can draw some insights into how a miner might select which transactions to include in a block:\n",
    "\n",
    "Miners should prioritize transactions with the highest fee/size of the transaction. These rates are highest when the memory pool is overloaded. Minors must therefore be very attentive at these times.\n",
    "The rest of the time the value of transaction fees is relatively stable, so miners can choose transactions in the order they come."
   ]
  },
  {
   "cell_type": "code",
   "execution_count": null,
   "id": "6e10aacd",
   "metadata": {},
   "outputs": [],
   "source": []
  }
 ],
 "metadata": {
  "kernelspec": {
   "display_name": "Python 3 (ipykernel)",
   "language": "python",
   "name": "python3"
  },
  "language_info": {
   "codemirror_mode": {
    "name": "ipython",
    "version": 3
   },
   "file_extension": ".py",
   "mimetype": "text/x-python",
   "name": "python",
   "nbconvert_exporter": "python",
   "pygments_lexer": "ipython3",
   "version": "3.11.2"
  }
 },
 "nbformat": 4,
 "nbformat_minor": 5
}
